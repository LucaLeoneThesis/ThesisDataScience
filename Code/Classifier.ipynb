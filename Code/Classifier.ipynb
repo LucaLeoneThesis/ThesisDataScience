{
 "cells": [
  {
   "attachments": {},
   "cell_type": "markdown",
   "metadata": {},
   "source": [
    "This code contains code created by Haque, A., Reddi, V., & Giallanza, T. (2021). Deep learning for suicide and depression identification with unsupervised label correction. Artificial Neural Networks and Machine Learning–ICANN 2021: 30th International Conference on Artificial Neural Networks, Bratislava, Slovakia, September 14–17, 2021, Proceedings, Part V 30, 436–447.\n",
    "Their paper is accessible at https://arxiv.org/pdf/2102.09427.pdf.\n",
    "Their code is accessible at https://github.com/ayaanzhaque/SDCNL.\n",
    "\n",
    "This code has been modified and adapted for this task."
   ]
  },
  {
   "cell_type": "code",
   "execution_count": null,
   "metadata": {},
   "outputs": [],
   "source": [
    "# Classifier code. \n",
    "\n",
    "\n",
    "import pandas as pd\n",
    "import tensorflow as tf\n",
    "from keras.models import Sequential\n",
    "\n",
    "from tensorflow.keras.layers import Dense\n",
    "\n",
    "\n",
    "\n",
    "original_train_labels = pd.read_csv(\"training-set.csv\")[\"is_suicide\"]\n",
    "original_test_labels = pd.read_csv(\"testing-set.csv\")[\"is_suicide\"]\n",
    "\n",
    "train_features = features[:len(original_train_labels)] # load the features after creating them\n",
    "test_features = features[len(original_train_labels):] # load the features after creating them\n",
    "\n",
    "\n",
    "# training hyperparameters\n",
    "\n",
    "epochs = 80\n",
    "batch_size = 32\n",
    "\n",
    "# Fully Dense Network\n",
    "\n",
    "pr_roc_auc = tf.keras.metrics.AUC(curve='ROC')\n",
    "precision = tf.keras.metrics.Precision()\n",
    "recall = tf.keras.metrics.Recall()\n",
    "dense_path = \"dense\"\n",
    "\n",
    "dense = Sequential()\n",
    "dense.add(Dense(128, activation='relu', kernel_initializer='he_uniform'))\n",
    "dense.add(Dense(64, activation='relu', kernel_initializer='he_uniform'))\n",
    "dense.add(Dense(1, activation='sigmoid'))\n",
    "\n",
    "dense.compile(optimizer='adam',\n",
    "            loss='binary_crossentropy',\n",
    "            metrics=['accuracy', pr_roc_auc, precision, recall])\n",
    "\n",
    "history = dense.fit(train_features, final_train_labels,epochs=epochs,batch_size=batch_size, verbose=0)\n",
    "\n",
    "dense.evaluate(test_features, final_test_labels)\n",
    "predictions_probabilities = dense.predict(test_features)\n",
    "\n",
    "#Uncomment line under this to save model for the SHAP values\n",
    "\n",
    "#dense.save('saved_models/BLOOM_aftercorrection')\n",
    "#dense.save('saved_models/GPTNeo_aftercorrection')"
   ]
  },
  {
   "cell_type": "code",
   "execution_count": null,
   "metadata": {},
   "outputs": [],
   "source": [
    "#To visualise a confusion matrix. The prediction probability threshold can be changed to another value. Here it is left on 0.5 as it is conventionally set.\n",
    "\n",
    "from sklearn.metrics import confusion_matrix\n",
    "predictions_labels = predictions_probabilities > 0.5\n",
    "confusion_matrix(final_test_labels, predictions_labels)"
   ]
  }
 ],
 "metadata": {
  "language_info": {
   "name": "python"
  },
  "orig_nbformat": 4
 },
 "nbformat": 4,
 "nbformat_minor": 2
}
